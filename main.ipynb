{
 "cells": [
  {
   "cell_type": "code",
   "execution_count": null,
   "metadata": {},
   "outputs": [],
   "source": [
    "import torch\n",
    "import lightning.pytorch as pl\n",
    "from lightning.pytorch.callbacks.early_stopping import EarlyStopping\n",
    "from lightning.pytorch.callbacks import ModelCheckpoint, LearningRateMonitor\n",
    "from lightning.pytorch.tuner import Tuner\n",
    "from lightning.pytorch.loggers import TensorBoardLogger\n",
    "from skimage.metrics import peak_signal_noise_ratio, mean_squared_error\n",
    "import numpy as np\n",
    "from PIL import Image\n",
    "import matplotlib.pyplot as plt\n",
    "\n",
    "from src.forward_operator.operators import cfa_operator\n",
    "from src.baseline_method.inversion_baseline import Inverse_problem\n",
    "from src.lightning_classes import U_PDHG_system, DataModule\n",
    "from src.data_loader import RGBDataset, RGB_SPECTRAL_STENCIL"
   ]
  },
  {
   "cell_type": "code",
   "execution_count": null,
   "metadata": {},
   "outputs": [],
   "source": [
    "DEVICE = torch.device('cuda' if torch.cuda.is_available() else 'cpu')\n",
    "CFA = 'bayer'\n",
    "TRAIN_DIR = 'images/train'\n",
    "VAL_DIR = 'images/val'\n",
    "TEST_DIR = 'images/test'\n",
    "SCALE = 2\n",
    "NB_STAGES = 6\n",
    "NB_CHANNELS = 32\n",
    "KERNEL_SIZE = 3\n",
    "BATCH_SIZE = 56\n",
    "LEARNING_RATE = 1e-2\n",
    "NB_EPOCHS = 500\n",
    "\n",
    "OP = cfa_operator(CFA, [160, 240, 3], RGB_SPECTRAL_STENCIL, 'dirac')\n",
    "baseline_inversion = Inverse_problem(CFA, [160, 240, 3], RGB_SPECTRAL_STENCIL, 'dirac')"
   ]
  },
  {
   "cell_type": "code",
   "execution_count": null,
   "metadata": {},
   "outputs": [],
   "source": [
    "train_dataset = RGBDataset(TRAIN_DIR, SCALE, OP.direct, OP.adjoint)\n",
    "val_dataset = RGBDataset(VAL_DIR, SCALE, OP.direct, OP.adjoint)\n",
    "test_dataset = RGBDataset(TEST_DIR, SCALE, OP.direct, OP.adjoint)\n",
    "\n",
    "data_module = DataModule(train_dataset, val_dataset, test_dataset, BATCH_SIZE)\n",
    "\n",
    "model = U_PDHG_system(LEARNING_RATE, NB_STAGES, CFA, RGB_SPECTRAL_STENCIL, NB_CHANNELS, KERNEL_SIZE)"
   ]
  },
  {
   "cell_type": "code",
   "execution_count": null,
   "metadata": {},
   "outputs": [],
   "source": [
    "logger = TensorBoardLogger('tb_logs', default_hp_metric=False)\n",
    "\n",
    "early_stop = EarlyStopping(monitor='val_loss', min_delta=1e-6, patience=50)\n",
    "lr_monitor = LearningRateMonitor()\n",
    "save_best = ModelCheckpoint(filename='best', monitor='val_loss')\n",
    "trainer = pl.Trainer(max_epochs=NB_EPOCHS, callbacks=[early_stop, lr_monitor, save_best], logger=logger)\n",
    "\n",
    "# tuner = Tuner(trainer)\n",
    "# tuner.lr_find(model, datamodule=data_module)\n",
    "# print(model.lr)\n",
    "# tuner.scale_batch_size(model, datamodule=data_module, init_val=16)"
   ]
  },
  {
   "cell_type": "code",
   "execution_count": null,
   "metadata": {},
   "outputs": [],
   "source": [
    "trainer.fit(model, datamodule=data_module)"
   ]
  },
  {
   "cell_type": "code",
   "execution_count": null,
   "metadata": {},
   "outputs": [],
   "source": [
    "trainer.test(model, datamodule=data_module)"
   ]
  },
  {
   "cell_type": "code",
   "execution_count": null,
   "metadata": {},
   "outputs": [],
   "source": [
    "model = U_PDHG_system.load_from_checkpoint(f'tb_logs/lightning_logs/version_{trainer.logger.version}/checkpoints/best.ckpt')\n",
    "model.eval()\n",
    "\n",
    "img = Image.open('images/val/3096.jpg')\n",
    "x = np.array(img.resize((img.size[0] // SCALE, img.size[1] // SCALE))) / 255\n",
    "y = OP.direct(x)\n",
    "x_baseline = baseline_inversion(y)\n",
    "input_data = torch.tensor(np.concatenate((y[:, :, None], x_baseline), axis=2), dtype=torch.float, device=DEVICE)[None]\n",
    "\n",
    "with torch.no_grad():\n",
    "    x_hat = model(input_data)[0].numpy(force=True).astype(float)"
   ]
  },
  {
   "cell_type": "code",
   "execution_count": null,
   "metadata": {},
   "outputs": [],
   "source": [
    "print(f'Baseline:\\n\\tMSE: {mean_squared_error(x, baseline_inversion(y)):.6f}, PSNR: {peak_signal_noise_ratio(x, baseline_inversion(y)):.2f}')\n",
    "print(f'UPDGH:\\n\\tMSE: {mean_squared_error(x, x_hat):.6f}, PSNR: {peak_signal_noise_ratio(x, x_hat):.2f}')\n",
    "\n",
    "fig, axs = plt.subplots(2, 2, sharex=True, sharey=True)\n",
    "\n",
    "axs[0, 0].imshow(x)\n",
    "axs[0, 0].set_title('Ground truth')\n",
    "axs[0, 1].imshow(y, cmap='gray')\n",
    "axs[0, 1].set_title('Input')\n",
    "axs[1, 0].imshow(x_baseline)\n",
    "axs[1, 0].set_title('Baseline')\n",
    "axs[1, 1].imshow(x_hat)\n",
    "axs[1, 1].set_title('UPDGH')\n",
    "plt.show()"
   ]
  }
 ],
 "metadata": {
  "kernelspec": {
   "display_name": "torch",
   "language": "python",
   "name": "python3"
  },
  "language_info": {
   "codemirror_mode": {
    "name": "ipython",
    "version": 3
   },
   "file_extension": ".py",
   "mimetype": "text/x-python",
   "name": "python",
   "nbconvert_exporter": "python",
   "pygments_lexer": "ipython3",
   "version": "3.11.4"
  },
  "orig_nbformat": 4
 },
 "nbformat": 4,
 "nbformat_minor": 2
}
