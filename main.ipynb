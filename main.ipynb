{
 "cells": [
  {
   "cell_type": "code",
   "execution_count": 1,
   "metadata": {},
   "outputs": [],
   "source": [
    "import torch\n",
    "import lightning.pytorch as pl\n",
    "from lightning.pytorch.callbacks.early_stopping import EarlyStopping\n",
    "from lightning.pytorch.callbacks import ModelCheckpoint\n",
    "from lightning.pytorch.tuner import Tuner\n",
    "from skimage.metrics import peak_signal_noise_ratio\n",
    "import numpy as np\n",
    "from PIL import Image\n",
    "import matplotlib.pyplot as plt\n",
    "\n",
    "from src.forward_operator.operators import cfa_operator\n",
    "from src.lightning_classes import U_PDHG_system, DataModule\n",
    "from src.data_loader import RGBDataset, RGB_SPECTRAL_STENCIL"
   ]
  },
  {
   "cell_type": "code",
   "execution_count": 2,
   "metadata": {},
   "outputs": [],
   "source": [
    "DEVICE = torch.device('cuda' if torch.cuda.is_available() else 'cpu')\n",
    "TRAIN_FLAG = True\n",
    "CFA = 'bayer'\n",
    "TRAIN_DIR = 'src/images/train'\n",
    "TEST_DIR = 'src/images/test'\n",
    "VAL_DIR = 'src/images/val'\n",
    "NB_STAGES = 8\n",
    "LEARNING_RATE = 1e-3\n",
    "NB_EPOCHS = 2\n",
    "\n",
    "OP = cfa_operator(CFA, [26, 40, 3], RGB_SPECTRAL_STENCIL, 'dirac')"
   ]
  },
  {
   "cell_type": "code",
   "execution_count": 3,
   "metadata": {},
   "outputs": [],
   "source": [
    "train_dataset = RGBDataset(TRAIN_DIR, OP.direct)\n",
    "test_dataset = RGBDataset(TEST_DIR, OP.direct)\n",
    "val_dataset = RGBDataset(VAL_DIR, OP.direct)\n",
    "\n",
    "data_module = DataModule(train_dataset, val_dataset, test_dataset)\n",
    "\n",
    "model = U_PDHG_system(LEARNING_RATE, NB_STAGES, CFA, RGB_SPECTRAL_STENCIL, 3)"
   ]
  },
  {
   "cell_type": "code",
   "execution_count": 4,
   "metadata": {},
   "outputs": [
    {
     "name": "stderr",
     "output_type": "stream",
     "text": [
      "GPU available: True (cuda), used: True\n",
      "TPU available: False, using: 0 TPU cores\n",
      "IPU available: False, using: 0 IPUs\n",
      "HPU available: False, using: 0 HPUs\n"
     ]
    }
   ],
   "source": [
    "early_stop = EarlyStopping(monitor='val_loss', min_delta=0.0001, mode='min')\n",
    "save_best = ModelCheckpoint(filename='best', monitor='val_loss')\n",
    "trainer = pl.Trainer(max_epochs=NB_EPOCHS, callbacks=[early_stop, save_best])"
   ]
  },
  {
   "cell_type": "code",
   "execution_count": 6,
   "metadata": {},
   "outputs": [
    {
     "name": "stderr",
     "output_type": "stream",
     "text": [
      "LOCAL_RANK: 0 - CUDA_VISIBLE_DEVICES: [0]\n",
      "`Trainer.fit` stopped: `max_steps=3` reached.\n",
      "Batch size 16 succeeded, trying batch size 32\n",
      "`Trainer.fit` stopped: `max_steps=3` reached.\n",
      "Batch size 32 succeeded, trying batch size 64\n",
      "`Trainer.fit` stopped: `max_steps=3` reached.\n",
      "Batch size 64 succeeded, trying batch size 128\n",
      "Batch size 128 failed, trying batch size 64\n",
      "Finished batch size finder, will continue with full run using batch size 64\n",
      "Restoring states from the checkpoint path at /home/mullemat/code/unrolled_demosaicking/.scale_batch_size_92515ae1-6a61-404c-b7ba-5c63953f0900.ckpt\n",
      "Restored all states from the checkpoint at /home/mullemat/code/unrolled_demosaicking/.scale_batch_size_92515ae1-6a61-404c-b7ba-5c63953f0900.ckpt\n",
      "LOCAL_RANK: 0 - CUDA_VISIBLE_DEVICES: [0]\n",
      "Finding best initial lr:   8%|▊         | 8/100 [00:08<01:18,  1.17it/s]`Trainer.fit` stopped: `max_epochs=2` reached.\n",
      "LR finder stopped early after 8 steps due to diverging loss.\n",
      "Finding best initial lr:   8%|▊         | 8/100 [00:09<01:44,  1.14s/it]\n",
      "Failed to compute suggestion for learning rate because there are not enough points. Increase the loop iteration limits or the size of your dataset/dataloader.\n",
      "Restoring states from the checkpoint path at /home/mullemat/code/unrolled_demosaicking/.lr_find_8bf82358-1ef4-4e71-b13d-cfd2320c50e6.ckpt\n",
      "Restored all states from the checkpoint at /home/mullemat/code/unrolled_demosaicking/.lr_find_8bf82358-1ef4-4e71-b13d-cfd2320c50e6.ckpt\n"
     ]
    },
    {
     "data": {
      "text/plain": [
       "<lightning.pytorch.tuner.lr_finder._LRFinder at 0x7f407818a090>"
      ]
     },
     "execution_count": 6,
     "metadata": {},
     "output_type": "execute_result"
    }
   ],
   "source": [
    "tuner = Tuner(trainer)\n",
    "\n",
    "tuner.scale_batch_size(model, datamodule=data_module, init_val=16)\n",
    "tuner.lr_find(model, datamodule=data_module, early_stop_threshold=None)"
   ]
  },
  {
   "cell_type": "code",
   "execution_count": null,
   "metadata": {},
   "outputs": [],
   "source": [
    "trainer.fit(model, data_module)"
   ]
  },
  {
   "cell_type": "code",
   "execution_count": null,
   "metadata": {},
   "outputs": [],
   "source": [
    "trainer.test(model, data_module)"
   ]
  },
  {
   "cell_type": "code",
   "execution_count": null,
   "metadata": {},
   "outputs": [],
   "source": [
    "model = U_PDHG_system.load_from_checkpoint('lightning_logs/version_0/checkpoints/best.ckpt')\n",
    "model.eval()\n",
    "\n",
    "img = Image.open('src/images/val/3096.jpg')\n",
    "x = np.array(img.resize((img.size[0] // 12, img.size[1] // 12))).astype(np.float32) / 255\n",
    "y = torch.tensor(OP.direct(x), dtype=torch.float, device=DEVICE)\n",
    "\n",
    "with torch.no_grad():\n",
    "    x_hat = model(y[None])[0].cpu().detach().numpy()"
   ]
  },
  {
   "cell_type": "code",
   "execution_count": null,
   "metadata": {},
   "outputs": [],
   "source": [
    "fig, axs = plt.subplots(2, 2, sharex=True, sharey=True)\n",
    "\n",
    "print(peak_signal_noise_ratio(x, x_hat))\n",
    "axs[0, 0].imshow(x)\n",
    "axs[0, 0].set_title('Ground truth')\n",
    "axs[0, 1].imshow(y.cpu(), cmap='gray')\n",
    "axs[0, 1].set_title('Input')\n",
    "axs[1, 0].imshow(OP.adjoint(OP.direct(x)))\n",
    "axs[1, 0].set_title('Adjoint of the input')\n",
    "axs[1, 1].imshow(x_hat)\n",
    "axs[1, 1].set_title('Reconstruction')"
   ]
  }
 ],
 "metadata": {
  "kernelspec": {
   "display_name": "torch",
   "language": "python",
   "name": "python3"
  },
  "language_info": {
   "codemirror_mode": {
    "name": "ipython",
    "version": 3
   },
   "file_extension": ".py",
   "mimetype": "text/x-python",
   "name": "python",
   "nbconvert_exporter": "python",
   "pygments_lexer": "ipython3",
   "version": "3.11.4"
  },
  "orig_nbformat": 4
 },
 "nbformat": 4,
 "nbformat_minor": 2
}
