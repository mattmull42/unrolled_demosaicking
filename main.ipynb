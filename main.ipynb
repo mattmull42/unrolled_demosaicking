{
 "cells": [
  {
   "cell_type": "code",
   "execution_count": null,
   "metadata": {},
   "outputs": [],
   "source": [
    "import torch\n",
    "import lightning.pytorch as pl\n",
    "from lightning.pytorch.callbacks.early_stopping import EarlyStopping\n",
    "from lightning.pytorch.callbacks import ModelCheckpoint\n",
    "from skimage.metrics import peak_signal_noise_ratio\n",
    "from skimage.io import imread\n",
    "import numpy as np\n",
    "import matplotlib.pyplot as plt\n",
    "\n",
    "from src.forward_operator.operators import cfa_operator\n",
    "from src.lightning_classes import UnrolledSystem, DataModule\n",
    "from src.data_loader import RGBDataset"
   ]
  },
  {
   "cell_type": "code",
   "execution_count": null,
   "metadata": {},
   "outputs": [],
   "source": [
    "DEVICE = torch.device('cuda' if torch.cuda.is_available() else 'cpu')\n",
    "CFAS = ['bayer', 'quad_bayer', 'kodak']\n",
    "TRAIN_DIR = 'images/train'\n",
    "VAL_DIR = 'images/val'\n",
    "TEST_DIR = 'images/test'\n",
    "PATCH_SIZE = 32\n",
    "NB_STAGES = 8\n",
    "NB_CHANNELS = 16\n",
    "BATCH_SIZE = 512\n",
    "LEARNING_RATE = 1e-1\n",
    "NB_EPOCHS = 100"
   ]
  },
  {
   "cell_type": "code",
   "execution_count": null,
   "metadata": {},
   "outputs": [],
   "source": [
    "train_dataset = RGBDataset(TRAIN_DIR, CFAS, PATCH_SIZE, PATCH_SIZE // 2)\n",
    "val_dataset = RGBDataset(VAL_DIR, CFAS, PATCH_SIZE, PATCH_SIZE)\n",
    "test_dataset = RGBDataset(TEST_DIR, CFAS, PATCH_SIZE, PATCH_SIZE)\n",
    "\n",
    "data_module = DataModule(train_dataset, val_dataset, test_dataset, BATCH_SIZE)\n",
    "model = UnrolledSystem(LEARNING_RATE, NB_STAGES, NB_CHANNELS)"
   ]
  },
  {
   "cell_type": "code",
   "execution_count": null,
   "metadata": {},
   "outputs": [],
   "source": [
    "early_stop = EarlyStopping(monitor='Loss/Val', min_delta=1e-5, patience=10)\n",
    "save_best = ModelCheckpoint(filename='best', monitor='Loss/Val')\n",
    "trainer = pl.Trainer(max_epochs=NB_EPOCHS, callbacks=[early_stop, save_best])"
   ]
  },
  {
   "cell_type": "code",
   "execution_count": null,
   "metadata": {},
   "outputs": [],
   "source": [
    "trainer.fit(model, datamodule=data_module)"
   ]
  },
  {
   "cell_type": "code",
   "execution_count": null,
   "metadata": {},
   "outputs": [],
   "source": [
    "trainer.test(model, datamodule=data_module)"
   ]
  },
  {
   "cell_type": "code",
   "execution_count": null,
   "metadata": {},
   "outputs": [],
   "source": [
    "def prepare_input(path, cfas):\n",
    "    x = imread(path) / 255\n",
    "    inputs = []\n",
    "\n",
    "    for cfa in cfas:\n",
    "        op = cfa_operator(cfa, x.shape, [650, 525, 480], 'dirac')\n",
    "        y = torch.Tensor(op.direct(x))[None]\n",
    "        mask = torch.Tensor(op.cfa_mask).permute(2, 0, 1)\n",
    "        inputs.append(torch.cat([y, mask]))\n",
    "\n",
    "    return x, torch.stack(inputs).to(DEVICE)"
   ]
  },
  {
   "cell_type": "code",
   "execution_count": null,
   "metadata": {},
   "outputs": [],
   "source": [
    "model = UnrolledSystem.load_from_checkpoint(f'lightning_logs/version_{0}/checkpoints/best.ckpt')"
   ]
  },
  {
   "cell_type": "code",
   "execution_count": null,
   "metadata": {},
   "outputs": [],
   "source": [
    "path = 'images/test/28083.jpg'\n",
    "x, input_data = prepare_input(path, CFAS)\n",
    "\n",
    "model.eval()\n",
    "with torch.no_grad():\n",
    "    # x_hat_list.shape == (cfas, stages, height, width, channels)\n",
    "    x_hat_list = np.clip(torch.stack(model(input_data)).permute(1, 0, 3, 4, 2).numpy(force=True).astype(float), 0, 1)"
   ]
  },
  {
   "cell_type": "code",
   "execution_count": null,
   "metadata": {},
   "outputs": [],
   "source": [
    "x = x[2:-2, 2:-2]\n",
    "x_hat_list = x_hat_list[:, :, 2:-2, 2:-2]"
   ]
  },
  {
   "cell_type": "code",
   "execution_count": null,
   "metadata": {},
   "outputs": [],
   "source": [
    "fig, axs = plt.subplots(2, 2, figsize=(16, 11))\n",
    "iter = -1\n",
    "\n",
    "axs[0, 0].imshow(x)\n",
    "axs[0, 0].set_title('Ground truth')\n",
    "axs[0, 0].axis('off')\n",
    "axs[0, 1].imshow(x_hat_list[0, iter])\n",
    "axs[0, 1].set_title(f'CFA: {CFAS[0]}, PSNR: {peak_signal_noise_ratio(x, x_hat_list[0, iter]):.2f}')\n",
    "axs[0, 1].axis('off')\n",
    "axs[1, 0].imshow(x_hat_list[1, iter])\n",
    "axs[1, 0].set_title(f'CFA: {CFAS[1]}, PSNR: {peak_signal_noise_ratio(x, x_hat_list[1, iter]):.2f}')\n",
    "axs[1, 0].axis('off')\n",
    "axs[1, 1].imshow(x_hat_list[2, iter])\n",
    "axs[1, 1].set_title(f'CFA: {CFAS[2]}, PSNR: {peak_signal_noise_ratio(x, x_hat_list[2, iter]):.2f}')\n",
    "axs[1, 1].axis('off')\n",
    "plt.show()"
   ]
  },
  {
   "cell_type": "code",
   "execution_count": null,
   "metadata": {},
   "outputs": [],
   "source": [
    "for i in range(len(CFAS)):\n",
    "    plt.plot([peak_signal_noise_ratio(x, x_hat) for x_hat in x_hat_list[i]], label=CFAS[i])\n",
    "\n",
    "plt.title('PSNR in functions of the stages')\n",
    "plt.xlabel('Stages')\n",
    "plt.ylabel('PSNR')\n",
    "plt.legend()\n",
    "plt.show()"
   ]
  }
 ],
 "metadata": {
  "kernelspec": {
   "display_name": "torch",
   "language": "python",
   "name": "python3"
  },
  "language_info": {
   "codemirror_mode": {
    "name": "ipython",
    "version": 3
   },
   "file_extension": ".py",
   "mimetype": "text/x-python",
   "name": "python",
   "nbconvert_exporter": "python",
   "pygments_lexer": "ipython3",
   "version": "3.11.6"
  },
  "orig_nbformat": 4
 },
 "nbformat": 4,
 "nbformat_minor": 2
}
