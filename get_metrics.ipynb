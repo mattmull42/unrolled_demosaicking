{
 "cells": [
  {
   "cell_type": "code",
   "execution_count": 1,
   "metadata": {},
   "outputs": [],
   "source": [
    "import lightning.pytorch as pl\n",
    "import numpy as np\n",
    "import csv\n",
    "from skimage.metrics import peak_signal_noise_ratio, structural_similarity\n",
    "\n",
    "from src.lightning_classes import UnrolledSystem\n",
    "from src.data_loader import RGBDataset\n",
    "from src.utils import format_output, get_dataloader"
   ]
  },
  {
   "cell_type": "code",
   "execution_count": null,
   "metadata": {},
   "outputs": [],
   "source": [
    "CFAS_OLD = sorted(['bayer_GRBG', 'gindele', 'chakrabarti', 'hamilton', 'honda', 'kaizu', 'kodak', 'sparse_3', 'wang', 'yamagami', 'yamanaka'])\n",
    "CFAS_NEW = sorted(['quad_bayer', 'lukac', 'xtrans', 'sony'])\n",
    "CFAS = CFAS_OLD + CFAS_NEW\n",
    "TEST_DIR = 'images/test'\n",
    "NOISE_STD = 0\n",
    "BATCH_SIZE = 16\n",
    "\n",
    "psnr = lambda x, x_hat: peak_signal_noise_ratio(x, x_hat, data_range=1)\n",
    "ssim = lambda x, x_hat: structural_similarity(x, x_hat, data_range=1, channel_axis=2)\n",
    "\n",
    "experiment = 'bayer_GRBG-chakrabarti-gindele-hamilton-honda-kaizu-kodak-quad_bayer-sony-sparse_3-wang-yamagami-yamanaka-4V'\n",
    "version = 'version_0'\n",
    "model = UnrolledSystem.load_from_checkpoint(f'logs/{experiment}/{version}/checkpoints/best.ckpt')\n",
    "\n",
    "trainer = pl.Trainer(logger=False)"
   ]
  },
  {
   "cell_type": "code",
   "execution_count": null,
   "metadata": {},
   "outputs": [],
   "source": [
    "res = []\n",
    "\n",
    "for cfa in CFAS:\n",
    "    dataset = RGBDataset(TEST_DIR, [cfa], cfa_variants=0, std=NOISE_STD)\n",
    "    dataloader = get_dataloader(dataset, BATCH_SIZE)\n",
    "\n",
    "    x_hat_list = trainer.predict(model=model, dataloaders=dataloader)\n",
    "\n",
    "    gt_list, x_hat_list = format_output(x_hat_list)\n",
    "    x_hat_list = x_hat_list[-1]\n",
    "\n",
    "    metrics = np.array([[psnr(x, y), ssim(x, y)] for x, y in zip(gt_list, x_hat_list)]).T\n",
    "\n",
    "    res.append([cfa] + [f'${np.mean(metrics[0]):.2f} \\pm {np.std(metrics[0]):.2f}$',\n",
    "                        f'${np.mean(metrics[1]):.3f} \\pm {np.std(metrics[1]):.3f}$'])"
   ]
  },
  {
   "cell_type": "code",
   "execution_count": null,
   "metadata": {},
   "outputs": [],
   "source": [
    "with open(f'metrics{\"_V\" if experiment.endswith(\"V\") else \"\"}.csv', 'w') as csvFile:\n",
    "    writer = csv.writer(csvFile)\n",
    "    writer.writerows(res)"
   ]
  }
 ],
 "metadata": {
  "kernelspec": {
   "display_name": "torch",
   "language": "python",
   "name": "python3"
  },
  "language_info": {
   "codemirror_mode": {
    "name": "ipython",
    "version": 3
   },
   "file_extension": ".py",
   "mimetype": "text/x-python",
   "name": "python",
   "nbconvert_exporter": "python",
   "pygments_lexer": "ipython3",
   "version": "3.11.6"
  },
  "orig_nbformat": 4
 },
 "nbformat": 4,
 "nbformat_minor": 2
}
