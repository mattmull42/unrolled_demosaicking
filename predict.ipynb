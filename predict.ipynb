{
 "cells": [
  {
   "cell_type": "code",
   "execution_count": null,
   "metadata": {},
   "outputs": [],
   "source": [
    "import lightning.pytorch as pl\n",
    "\n",
    "from src.lightning_classes import UnrolledSystem\n",
    "from src.data_loader import RGBDataset\n",
    "from src.utils import format_output, get_dataloader, plot_psnr_stages, plot_results"
   ]
  },
  {
   "cell_type": "code",
   "execution_count": null,
   "metadata": {},
   "outputs": [],
   "source": [
    "CFAS_TRAIN = ['bayer_GRBG', 'binning', 'chakrabarti', 'gindele', 'hamilton', 'honda', 'kaizu', 'kodak', 'quad_bayer', 'random', 'sparse_3', 'wang', 'yamagami', 'yamanaka']\n",
    "CFAS_TEST = ['honda2', 'lukac', 'luo', 'sony', 'xtrans']\n",
    "IMAGE_PATH = 'input/28083.jpg'\n",
    "BATCH_SIZE = 8"
   ]
  },
  {
   "cell_type": "code",
   "execution_count": null,
   "metadata": {},
   "outputs": [],
   "source": [
    "dataset = RGBDataset(IMAGE_PATH, CFAS_TRAIN, cfa_variants=0)\n",
    "dataloader = get_dataloader(dataset, BATCH_SIZE)\n",
    "\n",
    "dataset_test = RGBDataset(IMAGE_PATH, CFAS_TEST, cfa_variants=0)\n",
    "dataloader_test = get_dataloader(dataset_test, BATCH_SIZE)\n",
    "\n",
    "experiment = 'bayer_GRBG-binning-chakrabarti-gindele-hamilton-honda-kaizu-kodak-quad_bayer-sparse_3-wang-yamagami-yamanaka-6V'\n",
    "version = 'version_0'\n",
    "model = UnrolledSystem.load_from_checkpoint(f'weights/{experiment}/{version}/checkpoints/best.ckpt')\n",
    "\n",
    "trainer = pl.Trainer(logger=False)"
   ]
  },
  {
   "cell_type": "code",
   "execution_count": null,
   "metadata": {},
   "outputs": [],
   "source": [
    "trainer.test(model=model, dataloaders=[dataloader, dataloader_test]);"
   ]
  },
  {
   "cell_type": "code",
   "execution_count": null,
   "metadata": {},
   "outputs": [],
   "source": [
    "x_hat_list, x_hat_list_new = trainer.predict(model=model, dataloaders=[dataloader, dataloader_test])"
   ]
  },
  {
   "cell_type": "code",
   "execution_count": null,
   "metadata": {},
   "outputs": [],
   "source": [
    "gt_list, x_hat_list = format_output(x_hat_list)\n",
    "gt_list_new, x_hat_list_new = format_output(x_hat_list_new)"
   ]
  },
  {
   "cell_type": "code",
   "execution_count": null,
   "metadata": {},
   "outputs": [],
   "source": [
    "plot_results(gt_list, x_hat_list, CFAS_TRAIN, dataset.cfa_idx, stage=-1)"
   ]
  },
  {
   "cell_type": "code",
   "execution_count": null,
   "metadata": {},
   "outputs": [],
   "source": [
    "plot_psnr_stages(gt_list, x_hat_list, CFAS_TRAIN, dataset.cfa_idx)"
   ]
  },
  {
   "cell_type": "code",
   "execution_count": null,
   "metadata": {},
   "outputs": [],
   "source": [
    "plot_results(gt_list_new, x_hat_list_new, CFAS_TEST, dataset_test.cfa_idx, stage=-1)"
   ]
  },
  {
   "cell_type": "code",
   "execution_count": null,
   "metadata": {},
   "outputs": [],
   "source": [
    "plot_psnr_stages(gt_list_new, x_hat_list_new, CFAS_TEST, dataset_test.cfa_idx)"
   ]
  }
 ],
 "metadata": {
  "kernelspec": {
   "display_name": "torch",
   "language": "python",
   "name": "python3"
  },
  "language_info": {
   "codemirror_mode": {
    "name": "ipython",
    "version": 3
   },
   "file_extension": ".py",
   "mimetype": "text/x-python",
   "name": "python",
   "nbconvert_exporter": "python",
   "pygments_lexer": "ipython3",
   "version": "3.11.6"
  },
  "orig_nbformat": 4
 },
 "nbformat": 4,
 "nbformat_minor": 2
}
