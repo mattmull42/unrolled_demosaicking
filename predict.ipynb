{
 "cells": [
  {
   "cell_type": "code",
   "execution_count": null,
   "metadata": {},
   "outputs": [],
   "source": [
    "import lightning.pytorch as pl\n",
    "\n",
    "from src.lightning_classes import UnrolledSystem\n",
    "from src.data_loader import RGBDataset\n",
    "from src.utils import format_output, get_dataloader, plot_psnr_stages, plot_results"
   ]
  },
  {
   "cell_type": "code",
   "execution_count": null,
   "metadata": {},
   "outputs": [],
   "source": [
    "CFAS = sorted(['bayer_GRBG', 'quad_bayer', 'sony', 'kodak', 'sparse_3', 'chakrabarti',\n",
    "               'honda', 'kaizu', 'yamagami', 'gindele', 'hamilton', 'wang', 'yamanaka'])\n",
    "CFAS_NEW = sorted(['bayer_RGGB', 'luo', 'lukak'])\n",
    "CFAS_TOT = sorted(CFAS + CFAS_NEW)\n",
    "IMAGE_PATH = 'images/test/28083.jpg'\n",
    "BATCH_SIZE = 16"
   ]
  },
  {
   "cell_type": "code",
   "execution_count": null,
   "metadata": {},
   "outputs": [],
   "source": [
    "pred_dataset = RGBDataset(IMAGE_PATH, CFAS, cfa_variants=False)\n",
    "dataloader = get_dataloader(pred_dataset, BATCH_SIZE)\n",
    "\n",
    "pred_dataset_new = RGBDataset(IMAGE_PATH, CFAS_NEW, cfa_variants=True)\n",
    "dataloader_new = get_dataloader(pred_dataset_new, BATCH_SIZE)\n",
    "\n",
    "experiment = 'bayer_GRBG-chakrabarti-gindele-hamilton-honda-kaizu-kodak-quad_bayer-sony-sparse_3-wang-yamagami-yamanaka-4'\n",
    "version = 'version_0'\n",
    "model = UnrolledSystem.load_from_checkpoint(f'logs/{experiment}/{version}/checkpoints/best.ckpt')\n",
    "\n",
    "trainer = pl.Trainer(logger=False)"
   ]
  },
  {
   "cell_type": "code",
   "execution_count": null,
   "metadata": {},
   "outputs": [],
   "source": [
    "x_hat_list, x_hat_list_new = trainer.predict(model=model, dataloaders=[dataloader, dataloader_new])"
   ]
  },
  {
   "cell_type": "code",
   "execution_count": null,
   "metadata": {},
   "outputs": [],
   "source": [
    "gt_list, x_hat_list = format_output(x_hat_list)\n",
    "gt_list_new, x_hat_list_new = format_output(x_hat_list_new)"
   ]
  },
  {
   "cell_type": "code",
   "execution_count": null,
   "metadata": {},
   "outputs": [],
   "source": [
    "plot_results(gt_list, x_hat_list, CFAS, -1)"
   ]
  },
  {
   "cell_type": "code",
   "execution_count": null,
   "metadata": {},
   "outputs": [],
   "source": [
    "plot_psnr_stages(gt_list, x_hat_list, CFAS)"
   ]
  }
 ],
 "metadata": {
  "kernelspec": {
   "display_name": "torch",
   "language": "python",
   "name": "python3"
  },
  "language_info": {
   "codemirror_mode": {
    "name": "ipython",
    "version": 3
   },
   "file_extension": ".py",
   "mimetype": "text/x-python",
   "name": "python",
   "nbconvert_exporter": "python",
   "pygments_lexer": "ipython3",
   "version": "3.11.6"
  },
  "orig_nbformat": 4
 },
 "nbformat": 4,
 "nbformat_minor": 2
}
