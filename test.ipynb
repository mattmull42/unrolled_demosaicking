{
 "cells": [
  {
   "cell_type": "code",
   "execution_count": null,
   "metadata": {},
   "outputs": [],
   "source": [
    "import lightning.pytorch as pl\n",
    "\n",
    "from src.lightning_classes import UnrolledSystem\n",
    "from src.data_loader import RGBDataset\n",
    "from src.utils import get_dataloader"
   ]
  },
  {
   "cell_type": "code",
   "execution_count": null,
   "metadata": {},
   "outputs": [],
   "source": [
    "# Defines the weights\n",
    "experiment = 'bayer_GRBG-binning-chakrabarti-gindele-hamilton-honda-kaizu-kodak-quad_bayer-sparse_3-wang-yamagami-yamanaka-6V'\n",
    "version = 'version_0'\n",
    "\n",
    "# Split the CFAs into train/test sets\n",
    "CFAS = ['bayer_GRBG', 'binning', 'chakrabarti', 'gindele', 'hamilton', 'honda', 'honda2', 'kaizu', 'kodak', 'lukac', 'luo', 'quad_bayer', 'random', 'sony', 'sparse_3', 'wang', 'xtrans', 'yamagami', 'yamanaka']\n",
    "\n",
    "CFAS_TRAIN = sorted(experiment.split('-')[:-1])\n",
    "CFAS_TEST = sorted(list(set(CFAS).difference(CFAS_TRAIN)))\n",
    "\n",
    "# Other hyperparameters\n",
    "TEST_DIR = 'input/test'\n",
    "BATCH_SIZE = 16"
   ]
  },
  {
   "cell_type": "code",
   "execution_count": null,
   "metadata": {},
   "outputs": [],
   "source": [
    "# Declares the datasets\n",
    "dataset = RGBDataset(TEST_DIR, CFAS_TRAIN, cfa_variants=0)\n",
    "dataloader = get_dataloader(dataset, BATCH_SIZE)\n",
    "\n",
    "dataset_test = RGBDataset(TEST_DIR, CFAS_TEST, cfa_variants=0)\n",
    "dataloader_test = get_dataloader(dataset_test, BATCH_SIZE)\n",
    "\n",
    "# Initializes the network and its trainer\n",
    "model = UnrolledSystem.load_from_checkpoint(f'weights/{experiment}/{version}/checkpoints/best.ckpt')\n",
    "\n",
    "trainer = pl.Trainer(logger=False)"
   ]
  },
  {
   "cell_type": "code",
   "execution_count": null,
   "metadata": {},
   "outputs": [],
   "source": [
    "# Runs the tests\n",
    "trainer.test(model=model, dataloaders=[dataloader, dataloader_test]);"
   ]
  }
 ],
 "metadata": {
  "kernelspec": {
   "display_name": "torch",
   "language": "python",
   "name": "python3"
  },
  "language_info": {
   "codemirror_mode": {
    "name": "ipython",
    "version": 3
   },
   "file_extension": ".py",
   "mimetype": "text/x-python",
   "name": "python",
   "nbconvert_exporter": "python",
   "pygments_lexer": "ipython3",
   "version": "3.11.6"
  },
  "orig_nbformat": 4
 },
 "nbformat": 4,
 "nbformat_minor": 2
}
