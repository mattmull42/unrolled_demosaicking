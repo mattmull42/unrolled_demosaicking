{
 "cells": [
  {
   "cell_type": "code",
   "execution_count": null,
   "metadata": {},
   "outputs": [],
   "source": [
    "import lightning.pytorch as pl\n",
    "\n",
    "from src.lightning_classes import UnrolledSystem\n",
    "from src.data_loader import RGBDataset\n",
    "from src.utils import get_dataloader"
   ]
  },
  {
   "cell_type": "code",
   "execution_count": null,
   "metadata": {},
   "outputs": [],
   "source": [
    "CFAS_TRAIN = sorted(['bayer_GRBG', 'quad_bayer', 'gindele', 'chakrabarti', 'hamilton', 'sony', 'honda', 'kaizu', 'kodak', 'sparse_3', 'wang', 'yamagami', 'yamanaka'])\n",
    "CFAS_NEW = sorted(['luo', 'lukac', 'xtrans', 'honda2', 'bayer_RGGB', 'binning', 'random'])\n",
    "CFAS = sorted(CFAS_TRAIN + CFAS_NEW)\n",
    "TEST_DIR = 'input/test'\n",
    "BATCH_SIZE = 16"
   ]
  },
  {
   "cell_type": "code",
   "execution_count": null,
   "metadata": {},
   "outputs": [],
   "source": [
    "dataset = RGBDataset(TEST_DIR, CFAS_TRAIN, cfa_variants=0)\n",
    "dataloader = get_dataloader(dataset, BATCH_SIZE)\n",
    "\n",
    "dataset_new = RGBDataset(TEST_DIR, CFAS_NEW, cfa_variants=0)\n",
    "dataloader_new = get_dataloader(dataset_new, BATCH_SIZE)\n",
    "\n",
    "experiment = 'bayer_GRBG-chakrabarti-gindele-hamilton-honda-kaizu-kodak-quad_bayer-sony-sparse_3-wang-yamagami-yamanaka-4V'\n",
    "version = 'version_0'\n",
    "model = UnrolledSystem.load_from_checkpoint(f'weights/{experiment}/{version}/checkpoints/best.ckpt')\n",
    "\n",
    "trainer = pl.Trainer(logger=False)"
   ]
  },
  {
   "cell_type": "code",
   "execution_count": null,
   "metadata": {},
   "outputs": [],
   "source": [
    "trainer.test(model=model, dataloaders=[dataloader, dataloader_new]);"
   ]
  }
 ],
 "metadata": {
  "kernelspec": {
   "display_name": "torch",
   "language": "python",
   "name": "python3"
  },
  "language_info": {
   "codemirror_mode": {
    "name": "ipython",
    "version": 3
   },
   "file_extension": ".py",
   "mimetype": "text/x-python",
   "name": "python",
   "nbconvert_exporter": "python",
   "pygments_lexer": "ipython3",
   "version": "3.8.10"
  },
  "orig_nbformat": 4
 },
 "nbformat": 4,
 "nbformat_minor": 2
}
