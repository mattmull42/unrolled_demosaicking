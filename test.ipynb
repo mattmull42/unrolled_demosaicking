{
 "cells": [
  {
   "cell_type": "code",
   "execution_count": null,
   "metadata": {},
   "outputs": [],
   "source": [
    "import torch\n",
    "import lightning.pytorch as pl\n",
    "from skimage.metrics import peak_signal_noise_ratio\n",
    "from skimage.io import imread\n",
    "import numpy as np\n",
    "import matplotlib.pyplot as plt\n",
    "\n",
    "from src.forward_operator.operators import cfa_operator\n",
    "from src.lightning_classes import UnrolledSystem, DataModule\n",
    "from src.data_loader import RGBDataset"
   ]
  },
  {
   "cell_type": "code",
   "execution_count": null,
   "metadata": {},
   "outputs": [],
   "source": [
    "DEVICE = torch.device('cuda' if torch.cuda.is_available() else 'cpu')\n",
    "CFAS = ['bayer', 'quad_bayer', 'sony', 'kodak', 'sparse_3']\n",
    "TEST_DIR = 'images/test'\n",
    "BATCH_SIZE = 16"
   ]
  },
  {
   "cell_type": "code",
   "execution_count": null,
   "metadata": {},
   "outputs": [],
   "source": [
    "test_dataset = RGBDataset(TEST_DIR, CFAS)\n",
    "data_module = DataModule(BATCH_SIZE, test_dataset=test_dataset)\n",
    "\n",
    "version = 'all'\n",
    "model = UnrolledSystem.load_from_checkpoint(f'lightning_logs/{version}/checkpoints/best.ckpt')\n",
    "\n",
    "trainer = pl.Trainer()"
   ]
  },
  {
   "cell_type": "code",
   "execution_count": null,
   "metadata": {},
   "outputs": [],
   "source": [
    "trainer.test(model, datamodule=data_module)"
   ]
  },
  {
   "cell_type": "code",
   "execution_count": null,
   "metadata": {},
   "outputs": [],
   "source": [
    "def prepare_input(path, cfas):\n",
    "    x = imread(path) / 255\n",
    "    inputs = []\n",
    "\n",
    "    for cfa in cfas:\n",
    "        op = cfa_operator(cfa, x.shape, [650, 525, 480], 'dirac')\n",
    "        y = torch.Tensor(op.direct(x))[None]\n",
    "        mask = torch.Tensor(op.cfa_mask).permute(2, 0, 1)\n",
    "        inputs.append(torch.cat([y, mask]))\n",
    "\n",
    "    return x.astype(np.float32), torch.stack(inputs)"
   ]
  },
  {
   "cell_type": "code",
   "execution_count": null,
   "metadata": {},
   "outputs": [],
   "source": [
    "path = 'images/test/28083.jpg'\n",
    "x, input_data = prepare_input(path, CFAS)\n",
    "\n",
    "model.eval()\n",
    "with torch.no_grad():\n",
    "    x_hat_list = np.clip(torch.stack(model(input_data)).permute(1, 0, 3, 4, 2).numpy(force=True), 0, 1)"
   ]
  },
  {
   "cell_type": "code",
   "execution_count": null,
   "metadata": {},
   "outputs": [],
   "source": [
    "x = x[2:-2, 2:-2]\n",
    "x_hat_list = x_hat_list[:, :, 2:-2, 2:-2]"
   ]
  },
  {
   "cell_type": "code",
   "execution_count": null,
   "metadata": {},
   "outputs": [],
   "source": [
    "fig, axs = plt.subplots(2, 3, figsize=(20, 12))\n",
    "iter = -1\n",
    "\n",
    "axs[0, 0].imshow(x)\n",
    "axs[0, 0].set_title('Ground truth')\n",
    "axs[0, 0].axis('off')\n",
    "axs[0, 0].imshow(x_hat_list[0, iter])\n",
    "axs[0, 0].set_title(f'CFA: {CFAS[0]}, PSNR: {peak_signal_noise_ratio(x, x_hat_list[0, iter]):.2f}')\n",
    "axs[0, 0].axis('off')\n",
    "axs[0, 1].imshow(x_hat_list[1, iter])\n",
    "axs[0, 1].set_title(f'CFA: {CFAS[1]}, PSNR: {peak_signal_noise_ratio(x, x_hat_list[1, iter]):.2f}')\n",
    "axs[0, 1].axis('off')\n",
    "axs[0, 2].imshow(x_hat_list[2, iter])\n",
    "axs[0, 2].set_title(f'CFA: {CFAS[2]}, PSNR: {peak_signal_noise_ratio(x, x_hat_list[2, iter]):.2f}')\n",
    "axs[0, 2].axis('off')\n",
    "axs[1, 0].imshow(x_hat_list[3, iter])\n",
    "axs[1, 0].set_title(f'CFA: {CFAS[3]}, PSNR: {peak_signal_noise_ratio(x, x_hat_list[3, iter]):.2f}')\n",
    "axs[1, 0].axis('off')\n",
    "axs[1, 1].imshow(x_hat_list[4, iter])\n",
    "axs[1, 1].set_title(f'CFA: {CFAS[4]}, PSNR: {peak_signal_noise_ratio(x, x_hat_list[4, iter]):.2f}')\n",
    "axs[1, 1].axis('off')\n",
    "plt.show()"
   ]
  },
  {
   "cell_type": "code",
   "execution_count": null,
   "metadata": {},
   "outputs": [],
   "source": [
    "for i in range(len(CFAS)):\n",
    "    plt.plot([peak_signal_noise_ratio(x, x_hat) for x_hat in x_hat_list[i]], label=CFAS[i])\n",
    "\n",
    "plt.title('PSNR in functions of the stages')\n",
    "plt.xlabel('Stages')\n",
    "plt.ylabel('PSNR (dB)')\n",
    "plt.legend()\n",
    "plt.show()"
   ]
  }
 ],
 "metadata": {
  "kernelspec": {
   "display_name": "torch",
   "language": "python",
   "name": "python3"
  },
  "language_info": {
   "codemirror_mode": {
    "name": "ipython",
    "version": 3
   },
   "file_extension": ".py",
   "mimetype": "text/x-python",
   "name": "python",
   "nbconvert_exporter": "python",
   "pygments_lexer": "ipython3",
   "version": "3.11.6"
  },
  "orig_nbformat": 4
 },
 "nbformat": 4,
 "nbformat_minor": 2
}
