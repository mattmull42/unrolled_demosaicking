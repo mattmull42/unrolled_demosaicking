{
 "cells": [
  {
   "cell_type": "code",
   "execution_count": null,
   "metadata": {},
   "outputs": [],
   "source": [
    "import lightning.pytorch as pl\n",
    "\n",
    "from src.lightning_classes import UnrolledSystem\n",
    "from src.data_loader import RGBDataset\n",
    "from src.utils import get_dataloader"
   ]
  },
  {
   "cell_type": "code",
   "execution_count": null,
   "metadata": {},
   "outputs": [],
   "source": [
    "CFAS = sorted(['bayer_GRBG', 'quad_bayer', 'lukac', 'xtrans'])\n",
    "CFAS_NEW = sorted(['bayer_RGGB', 'yamanaka'])\n",
    "TEST_DIR = 'images/test'\n",
    "NOISE_STD = 0\n",
    "BATCH_SIZE = 16"
   ]
  },
  {
   "cell_type": "code",
   "execution_count": null,
   "metadata": {},
   "outputs": [],
   "source": [
    "test_dataset = RGBDataset(TEST_DIR, CFAS, cfa_variants=False, std=NOISE_STD)\n",
    "dataloader = get_dataloader(test_dataset, BATCH_SIZE)\n",
    "\n",
    "test_dataset_new = RGBDataset(TEST_DIR, CFAS_NEW, cfa_variants=True, std=NOISE_STD)\n",
    "dataloader_new = get_dataloader(test_dataset_new, BATCH_SIZE)\n",
    "\n",
    "experiment = 'bayer_GRBG-lukac-quad_bayer-xtrans-4'\n",
    "version = 'version_0'\n",
    "model = UnrolledSystem.load_from_checkpoint(f'logs/{experiment}/{version}/checkpoints/best.ckpt')\n",
    "\n",
    "trainer = pl.Trainer(logger=False)"
   ]
  },
  {
   "cell_type": "code",
   "execution_count": null,
   "metadata": {},
   "outputs": [],
   "source": [
    "trainer.test(model=model, dataloaders=[dataloader, dataloader_new]);"
   ]
  }
 ],
 "metadata": {
  "kernelspec": {
   "display_name": "torch",
   "language": "python",
   "name": "python3"
  },
  "language_info": {
   "codemirror_mode": {
    "name": "ipython",
    "version": 3
   },
   "file_extension": ".py",
   "mimetype": "text/x-python",
   "name": "python",
   "nbconvert_exporter": "python",
   "pygments_lexer": "ipython3",
   "version": "3.11.6"
  },
  "orig_nbformat": 4
 },
 "nbformat": 4,
 "nbformat_minor": 2
}
