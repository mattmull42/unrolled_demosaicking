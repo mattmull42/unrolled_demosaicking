{
 "cells": [
  {
   "cell_type": "code",
   "execution_count": null,
   "metadata": {},
   "outputs": [],
   "source": [
    "import lightning.pytorch as pl\n",
    "from lightning.pytorch.callbacks.early_stopping import EarlyStopping\n",
    "from lightning.pytorch.callbacks import ModelCheckpoint\n",
    "from lightning.pytorch.loggers import CSVLogger\n",
    "\n",
    "from src.lightning_classes import UnrolledSystem\n",
    "from src.data_loader import RGBDataset\n",
    "from src.utils import get_dataloader, set_matmul_precision\n",
    "\n",
    "set_matmul_precision()"
   ]
  },
  {
   "cell_type": "code",
   "execution_count": null,
   "metadata": {},
   "outputs": [],
   "source": [
    "CFAS = sorted(['bayer_GRBG', 'quad_bayer', 'lukac', 'xtrans'])\n",
    "CFA_VARIANTS = False\n",
    "TRAIN_DIR = 'images/train'\n",
    "VAL_DIR = 'images/val'\n",
    "NOISE_STD = 0\n",
    "PATCH_SIZE = 64\n",
    "NB_STAGES = 4\n",
    "NB_CHANNELS = 32\n",
    "BATCH_SIZE = 128\n",
    "LEARNING_RATE = 1e-2\n",
    "NB_EPOCHS = 200"
   ]
  },
  {
   "cell_type": "code",
   "execution_count": null,
   "metadata": {},
   "outputs": [],
   "source": [
    "train_dataset = RGBDataset(TRAIN_DIR, CFAS, cfa_variants=CFA_VARIANTS, patch_size=PATCH_SIZE, stride=PATCH_SIZE // 2, std=NOISE_STD)\n",
    "train_dataloader = get_dataloader(train_dataset, BATCH_SIZE, shuffle=True)\n",
    "\n",
    "val_dataset = RGBDataset(VAL_DIR, CFAS, cfa_variants=CFA_VARIANTS, std=NOISE_STD)\n",
    "val_dataloader = get_dataloader(val_dataset, BATCH_SIZE)\n",
    "\n",
    "model = UnrolledSystem(lr=LEARNING_RATE, N=NB_STAGES, nb_channels=NB_CHANNELS)\n",
    "\n",
    "early_stop = EarlyStopping(monitor='Loss/Val', min_delta=1e-6, patience=20)\n",
    "save_best = ModelCheckpoint(filename='best', monitor='Loss/Val')\n",
    "logger = CSVLogger(save_dir='logs', name='-'.join(CFAS) + f'-{NB_STAGES}{\"V\" if CFA_VARIANTS else \"\"}')\n",
    "\n",
    "trainer = pl.Trainer(logger=logger, callbacks=[early_stop, save_best], max_epochs=NB_EPOCHS)\n",
    "\n",
    "lr_finder = pl.tuner.Tuner(trainer).lr_find(model, train_dataloaders=train_dataloader, val_dataloaders=val_dataloader, num_training=200)"
   ]
  },
  {
   "cell_type": "code",
   "execution_count": null,
   "metadata": {},
   "outputs": [],
   "source": [
    "trainer.fit(model, train_dataloaders=train_dataloader, val_dataloaders=val_dataloader)"
   ]
  }
 ],
 "metadata": {
  "kernelspec": {
   "display_name": "torch",
   "language": "python",
   "name": "python3"
  },
  "language_info": {
   "codemirror_mode": {
    "name": "ipython",
    "version": 3
   },
   "file_extension": ".py",
   "mimetype": "text/x-python",
   "name": "python",
   "nbconvert_exporter": "python",
   "pygments_lexer": "ipython3",
   "version": "3.11.6"
  }
 },
 "nbformat": 4,
 "nbformat_minor": 2
}
