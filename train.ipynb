{
 "cells": [
  {
   "cell_type": "code",
   "execution_count": null,
   "metadata": {},
   "outputs": [],
   "source": [
    "import torch\n",
    "import lightning.pytorch as pl\n",
    "from lightning.pytorch.callbacks.early_stopping import EarlyStopping\n",
    "from lightning.pytorch.callbacks import ModelCheckpoint\n",
    "from src.lightning_classes import UnrolledSystem, DataModule\n",
    "from src.data_loader import RGBDataset"
   ]
  },
  {
   "cell_type": "code",
   "execution_count": null,
   "metadata": {},
   "outputs": [],
   "source": [
    "DEVICE = torch.device('cuda' if torch.cuda.is_available() else 'cpu')\n",
    "CFAS = ['bayer', 'kodak']\n",
    "TRAIN_DIR = 'images/train'\n",
    "VAL_DIR = 'images/val'\n",
    "TEST_DIR = 'images/test'\n",
    "PATCH_SIZE = 32\n",
    "NB_STAGES = 8\n",
    "NB_CHANNELS = 16\n",
    "BATCH_SIZE = 512\n",
    "LEARNING_RATE = 1e-1\n",
    "NB_EPOCHS = 100"
   ]
  },
  {
   "cell_type": "code",
   "execution_count": null,
   "metadata": {},
   "outputs": [],
   "source": [
    "train_dataset = RGBDataset(TRAIN_DIR, CFAS, PATCH_SIZE, PATCH_SIZE // 2)\n",
    "val_dataset = RGBDataset(VAL_DIR, CFAS, PATCH_SIZE, PATCH_SIZE)\n",
    "test_dataset = RGBDataset(TEST_DIR, CFAS, PATCH_SIZE, PATCH_SIZE)\n",
    "data_module = DataModule(train_dataset, val_dataset, test_dataset, BATCH_SIZE)\n",
    "\n",
    "model = UnrolledSystem(LEARNING_RATE, NB_STAGES, NB_CHANNELS)\n",
    "\n",
    "early_stop = EarlyStopping(monitor='Loss/Val', min_delta=1e-5, patience=10)\n",
    "save_best = ModelCheckpoint(filename='best', monitor='Loss/Val')\n",
    "trainer = pl.Trainer(max_epochs=NB_EPOCHS, callbacks=[early_stop, save_best])"
   ]
  },
  {
   "cell_type": "code",
   "execution_count": null,
   "metadata": {},
   "outputs": [],
   "source": [
    "trainer.fit(model, datamodule=data_module)"
   ]
  }
 ],
 "metadata": {
  "kernelspec": {
   "display_name": "torch",
   "language": "python",
   "name": "python3"
  },
  "language_info": {
   "name": "python",
   "version": "3.11.6"
  }
 },
 "nbformat": 4,
 "nbformat_minor": 2
}
