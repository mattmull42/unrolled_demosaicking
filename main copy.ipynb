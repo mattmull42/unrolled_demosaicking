{
 "cells": [
  {
   "cell_type": "code",
   "execution_count": 9,
   "metadata": {},
   "outputs": [],
   "source": [
    "import torch\n",
    "from torchinfo import summary\n",
    "import numpy as np\n",
    "from PIL import Image\n",
    "\n",
    "from src.forward_operator.operators import cfa_operator\n",
    "from src.layers import U_PDGH"
   ]
  },
  {
   "cell_type": "code",
   "execution_count": 20,
   "metadata": {},
   "outputs": [],
   "source": [
    "CFA = 'kodak'\n",
    "DEVICE = torch.device('cuda' if torch.cuda.is_available() else 'cpu')\n",
    "NB_STAGES = 1\n",
    "\n",
    "x = Image.open('images/01690.png')\n",
    "x = x.resize((x.size[0] // 12, x.size[1] // 12))\n",
    "x = np.array(x) / 255\n",
    "RGB_SPECTRAL_STENCIL = np.array([650, 525, 480])\n",
    "\n",
    "OP = cfa_operator(CFA, x.shape, RGB_SPECTRAL_STENCIL, 'dirac')\n",
    "\n",
    "y = torch.tensor(OP.direct(x)[None, ...], dtype=torch.float).to(DEVICE)"
   ]
  },
  {
   "cell_type": "code",
   "execution_count": 21,
   "metadata": {},
   "outputs": [
    {
     "data": {
      "text/plain": [
       "===============================================================================================\n",
       "Layer (type:depth-idx)                        Output Shape              Param #\n",
       "===============================================================================================\n",
       "U_PDGH                                        [1, 26, 40, 3]            --\n",
       "├─Sequential: 1-1                             [1, 3120]                 --\n",
       "│    └─primal_layer: 2-1                      [1, 3120]                 1\n",
       "│    └─dual_layer: 2-2                        [1, 3120]                 1\n",
       "│    │    └─Conv2d: 3-1                       [1, 16, 26, 40]           448\n",
       "│    │    └─conv_block: 3-2                   [1, 16, 26, 40]           4,640\n",
       "│    │    └─down_block: 3-3                   [1, 32, 26, 40]           4,640\n",
       "│    │    └─conv_block: 3-4                   [1, 32, 26, 40]           18,496\n",
       "│    │    └─down_block: 3-5                   [1, 64, 26, 40]           18,496\n",
       "│    │    └─conv_block: 3-6                   [1, 64, 26, 40]           73,856\n",
       "│    │    └─down_block: 3-7                   [1, 128, 26, 40]          73,856\n",
       "│    │    └─conv_block: 3-8                   [1, 128, 26, 40]          295,168\n",
       "│    │    └─up_block: 3-9                     [1, 64, 26, 40]           73,792\n",
       "│    │    └─conv_block: 3-10                  [1, 64, 26, 40]           73,856\n",
       "│    │    └─up_block: 3-11                    [1, 32, 26, 40]           18,464\n",
       "│    │    └─conv_block: 3-12                  [1, 32, 26, 40]           18,496\n",
       "│    │    └─up_block: 3-13                    [1, 16, 26, 40]           4,624\n",
       "│    │    └─conv_block: 3-14                  [1, 16, 26, 40]           4,640\n",
       "│    │    └─Conv2d: 3-15                      [1, 3, 26, 40]            435\n",
       "===============================================================================================\n",
       "Total params: 683,909\n",
       "Trainable params: 683,909\n",
       "Non-trainable params: 0\n",
       "Total mult-adds (Units.MEGABYTES): 711.26\n",
       "===============================================================================================\n",
       "Input size (MB): 0.00\n",
       "Forward/backward pass size (MB): 8.84\n",
       "Params size (MB): 2.74\n",
       "Estimated Total Size (MB): 11.58\n",
       "==============================================================================================="
      ]
     },
     "execution_count": 21,
     "metadata": {},
     "output_type": "execute_result"
    }
   ],
   "source": [
    "model = U_PDGH(NB_STAGES, CFA, RGB_SPECTRAL_STENCIL, 3).to(DEVICE)\n",
    "summary(model, input_size=[1, 26, 40])"
   ]
  },
  {
   "cell_type": "code",
   "execution_count": 22,
   "metadata": {},
   "outputs": [
    {
     "name": "stdout",
     "output_type": "stream",
     "text": [
      "tensor(0.8170, device='cuda:0')\n",
      "[0.27233115 0.27233115 0.27233115]\n",
      "tensor([0.2899, 0.2899, 0.2899], device='cuda:0')\n"
     ]
    }
   ],
   "source": [
    "model.eval()\n",
    "\n",
    "with torch.no_grad():\n",
    "    res = model(y)\n",
    "\n",
    "print(y[0, 0, 0])\n",
    "print(OP.adjoint(OP.direct(x))[0, 0])\n",
    "print(res[0, 0, 0])"
   ]
  }
 ],
 "metadata": {
  "kernelspec": {
   "display_name": "torch",
   "language": "python",
   "name": "python3"
  },
  "language_info": {
   "codemirror_mode": {
    "name": "ipython",
    "version": 3
   },
   "file_extension": ".py",
   "mimetype": "text/x-python",
   "name": "python",
   "nbconvert_exporter": "python",
   "pygments_lexer": "ipython3",
   "version": "3.11.4"
  },
  "orig_nbformat": 4
 },
 "nbformat": 4,
 "nbformat_minor": 2
}
